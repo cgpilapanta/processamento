{
  "nbformat": 4,
  "nbformat_minor": 0,
  "metadata": {
    "colab": {
      "private_outputs": true,
      "provenance": [],
      "authorship_tag": "ABX9TyMBvvXGbmWfwwFmavLHYk/j",
      "include_colab_link": true
    },
    "kernelspec": {
      "name": "python3",
      "display_name": "Python 3"
    },
    "language_info": {
      "name": "python"
    }
  },
  "cells": [
    {
      "cell_type": "markdown",
      "metadata": {
        "id": "view-in-github",
        "colab_type": "text"
      },
      "source": [
        "<a href=\"https://colab.research.google.com/github/cgpilapanta/processamento/blob/main/script_download.ipynb\" target=\"_parent\"><img src=\"https://colab.research.google.com/assets/colab-badge.svg\" alt=\"Open In Colab\"/></a>"
      ]
    },
    {
      "cell_type": "markdown",
      "source": [
        "#**SCRIPT PARA BAIXAR DADOS PARA USO NO BERNESE**\n",
        "---\n",
        "*   Autor: Christian G. Pilapanta A.\n",
        "*   Data : Outubro de 2024\n",
        "*   Lotação: Departamento de Geomática - UFPR / Laboratorio de Geodésia Espacial e Hidrografia\n",
        "\n",
        "---"
      ],
      "metadata": {
        "id": "TInoMQqbWLb1"
      }
    },
    {
      "cell_type": "markdown",
      "source": [
        "## INI. Parametros gerais"
      ],
      "metadata": {
        "id": "CplJNFa9YYGi"
      }
    },
    {
      "cell_type": "markdown",
      "source": [
        "### I.1 Importar bibliotecas necessárias"
      ],
      "metadata": {
        "id": "J4OeSVF4Wczy"
      }
    },
    {
      "cell_type": "code",
      "source": [
        "# --------------------------------------------\n",
        "# INSTALL PYTHON MODULES\n",
        "# --------------------------------------------\n",
        "!pip install gnsscal\n",
        "!pip install unlzw3\n",
        "\n",
        "import gnsscal, unlzw3"
      ],
      "metadata": {
        "id": "fJ_fh4z5iD2s"
      },
      "execution_count": null,
      "outputs": []
    },
    {
      "cell_type": "code",
      "execution_count": null,
      "metadata": {
        "id": "A6Yy2PyuewJz"
      },
      "outputs": [],
      "source": [
        "# --------------------------------------------\n",
        "# IMPORT PYTHON MODULES\n",
        "# --------------------------------------------\n",
        "import os, zipfile, shutil, subprocess, urllib.request, requests, pathlib, sys, gzip, zlib\n",
        "\n",
        "from pathlib import Path\n",
        "from datetime import date\n",
        "from datetime import datetime\n",
        "from google.colab import files\n",
        "from ftplib import FTP_TLS, error_perm"
      ]
    },
    {
      "cell_type": "markdown",
      "source": [
        "### I.2. Definir parâmetros de usuário"
      ],
      "metadata": {
        "id": "wzTOui2WWtlQ"
      }
    },
    {
      "cell_type": "code",
      "source": [
        "# --------------- SPECIFY USER INPUTS --------------- #\n",
        "# --------------------------------------------\n",
        "# RMBC STATIONS LIST (CAN BE MODIFIED)\n",
        "# --------------------------------------------\n",
        "sta_rbmc = ['apma', 'prma', 'onrj', 'mgbh']\n",
        "sta_nigs = ['braz', 'brft', 'cuib', 'salu', 'savo',  'sptu', 'topl', 'ufpr']\n",
        "# --------------------------------------------\n",
        "# PERIOD OF OBSERVATION DATA (CAN BE MODIFIED)\n",
        "# --------------------------------------------\n",
        "INI_YY = 2021\n",
        "END_YY = 2025\n",
        "# --------------------------------------------\n",
        "# MONTHS OF OBSERVATION DATA (CAN BE MODIFIED)\n",
        "# --------------------------------------------\n",
        "INT_MM = [1, 3, 5, 7, 9, 11]\n",
        "# --------------------------------------------\n",
        "# DAY OF OBSERVATION DATA (CAN BE MODIFIED)\n",
        "# --------------------------------------------\n",
        "INI_DD = 10\n",
        "# --------------------------------------------\n",
        "# HOURS OF VMF1 FUNCTIONS (CAN BE MODIFIED)\n",
        "# --------------------------------------------\n",
        "VMF_HH = [0, 6, 12, 18]\n",
        "# --------------------------------------------\n",
        "# E-MAIL FOR FTP SERVER\n",
        "# --------------------------------------------\n",
        "n_user = 'anonymous'\n",
        "n_email = 'cgpilapanta@gmail.com'\n",
        "# ---------------- END OF USER INPUTS --------------- #"
      ],
      "metadata": {
        "id": "gi1y7ozITWao"
      },
      "execution_count": null,
      "outputs": []
    },
    {
      "cell_type": "markdown",
      "source": [
        "## A. Baixar arquivos RINEX"
      ],
      "metadata": {
        "id": "mcSTlL4NWChR"
      }
    },
    {
      "cell_type": "markdown",
      "source": [
        "### A.1. Rede IGS Internacional"
      ],
      "metadata": {
        "id": "njksGcgrYsvW"
      }
    },
    {
      "cell_type": "code",
      "source": [
        "if not os.path.exists('/content/rinex/IGS'):\n",
        "  os.makedirs('/content/rinex/IGS')\n",
        "\n",
        "for year in range(INI_YY, END_YY):\n",
        "\n",
        "  if not os.path.exists('/content/rinex/IGS/' + str(year)):\n",
        "    os.makedirs('/content/rinex/IGS/' + str(year))\n",
        "\n",
        "  if not os.path.exists('/content/rinex/IGS/' + str(year) + '/' + str(year)[2:] + 'D'):\n",
        "    os.makedirs('/content/rinex/IGS/' + str(year) + '/' + str(year)[2:] + 'D')\n",
        "\n",
        "  if not os.path.exists('/content/rinex/IGS/' + str(year) + '/' + str(year)[2:] + 'G'):\n",
        "    os.makedirs('/content/rinex/IGS/' + str(year) + '/' + str(year)[2:] + 'G')\n",
        "\n",
        "  if not os.path.exists('/content/rinex/IGS/' + str(year) + '/' + str(year)[2:] + 'L'):\n",
        "    os.makedirs('/content/rinex/IGS/' + str(year) + '/' + str(year)[2:] + 'L')\n",
        "\n",
        "  if not os.path.exists('/content/rinex/IGS/' + str(year) + '/' + str(year)[2:] + 'M'):\n",
        "    os.makedirs('/content/rinex/IGS/' + str(year) + '/' + str(year)[2:] + 'M')\n",
        "\n",
        "  if not os.path.exists('/content/rinex/IGS/' + str(year) + '/' + str(year)[2:] + 'N'):\n",
        "    os.makedirs('/content/rinex/IGS/' + str(year) + '/' + str(year)[2:] + 'N')\n",
        "\n",
        "  for month in INT_MM:\n",
        "\n",
        "    doy = datetime(year, month, INI_DD).timetuple().tm_yday\n",
        "\n",
        "    for station in sta_nigs:\n",
        "\n",
        "      file_count = '1'\n",
        "      file_ext = '.zip'\n",
        "      filename = station + str(doy).zfill(3) + file_count + file_ext\n",
        "\n",
        "      url = 'https://geoftp.ibge.gov.br/informacoes_sobre_posicionamento_geodesico/rbmc/dados/' + str(year) + '/' + str(doy).zfill(3) + '/' + filename\n",
        "\n",
        "      request = requests.get(url)\n",
        "      if request.status_code == 200:\n",
        "\n",
        "          fullname = os.path.join('/content/rinex/IGS/' + str(year) + '/', filename)\n",
        "          urllib.request.urlretrieve(url, fullname)\n",
        "\n",
        "          with zipfile.ZipFile(fullname, 'r') as zip_ref:\n",
        "            zip_ref.extractall('/content/rinex/IGS/' + str(year) + '/')\n",
        "\n",
        "          os.remove(fullname)\n",
        "\n",
        "          print('IGS/' + str(year) + '/' + filename + ' unzipped successfully')\n",
        "\n",
        "      else:\n",
        "\n",
        "          print('IGS/' + str(year) + '/' + filename + ' does not exist')\n",
        "\n",
        "  folder = '/content/rinex/IGS/' + str(year)\n",
        "\n",
        "  for path in pathlib.Path(folder).glob(\"*.*\"):\n",
        "    path2 = path.parent.joinpath(str(path.name).upper())\n",
        "    shutil.move(path, path2)\n",
        "\n",
        "  for path in pathlib.Path(folder).glob(\"*.*\"):\n",
        "\n",
        "    if str(path)[-1:] == \"D\":\n",
        "      shutil.move(path, str(path)[:24] + str(path)[21:23] + 'D/' + str(path)[24:])\n",
        "    elif str(path)[-1:] == \"G\":\n",
        "      shutil.move(path, str(path)[:24] + str(path)[21:23] + 'G/' + str(path)[24:])\n",
        "    elif str(path)[-1:] == \"L\":\n",
        "      shutil.move(path, str(path)[:24] + str(path)[21:23] + 'L/' + str(path)[24:])\n",
        "    elif str(path)[-1:] == \"M\":\n",
        "      shutil.move(path, str(path)[:24] + str(path)[21:23] + 'M/' + str(path)[24:])\n",
        "    elif str(path)[-1:] == \"N\":\n",
        "      shutil.move(path, str(path)[:24] + str(path)[21:23] + 'N/' + str(path)[24:])\n",
        "\n",
        "print('>>>>>>>>>> PROCESS COMPLETED <<<<<<<<<<')"
      ],
      "metadata": {
        "collapsed": true,
        "id": "6z-TimwYiw5O"
      },
      "execution_count": null,
      "outputs": []
    },
    {
      "cell_type": "markdown",
      "source": [
        "### A.2. Rede Brasileira de Monitoramento Continuo. RBMC"
      ],
      "metadata": {
        "id": "KmJMed5RWJVz"
      }
    },
    {
      "cell_type": "code",
      "source": [
        "if not os.path.exists('/content/rinex/RBMC'):\n",
        "  os.makedirs('/content/rinex/RBMC')\n",
        "\n",
        "for year in range(INI_YY, END_YY):\n",
        "\n",
        "  if not os.path.exists('/content/rinex/RBMC/' + str(year)):\n",
        "    os.makedirs('/content/rinex/RBMC/' + str(year))\n",
        "\n",
        "  if not os.path.exists('/content/rinex/RBMC/' + str(year) + '/' + str(year)[2:] + 'D'):\n",
        "    os.makedirs('/content/rinex/RBMC/' + str(year) + '/' + str(year)[2:] + 'D')\n",
        "\n",
        "  if not os.path.exists('/content/rinex/RBMC/' + str(year) + '/' + str(year)[2:] + 'G'):\n",
        "    os.makedirs('/content/rinex/RBMC/' + str(year) + '/' + str(year)[2:] + 'G')\n",
        "\n",
        "  if not os.path.exists('/content/rinex/RBMC/' + str(year) + '/' + str(year)[2:] + 'L'):\n",
        "    os.makedirs('/content/rinex/RBMC/' + str(year) + '/' + str(year)[2:] + 'L')\n",
        "\n",
        "  if not os.path.exists('/content/rinex/RBMC/' + str(year) + '/' + str(year)[2:] + 'M'):\n",
        "    os.makedirs('/content/rinex/RBMC/' + str(year) + '/' + str(year)[2:] + 'M')\n",
        "\n",
        "  if not os.path.exists('/content/rinex/RBMC/' + str(year) + '/' + str(year)[2:] + 'N'):\n",
        "    os.makedirs('/content/rinex/RBMC/' + str(year) + '/' + str(year)[2:] + 'N')\n",
        "\n",
        "  for month in INT_MM:\n",
        "\n",
        "    doy = datetime(year, month, INI_DD).timetuple().tm_yday\n",
        "\n",
        "    for station in sta_rbmc:\n",
        "\n",
        "      file_count = '1'\n",
        "      file_ext = '.zip'\n",
        "      filename = station + str(doy).zfill(3) + file_count + file_ext\n",
        "\n",
        "      url = 'https://geoftp.ibge.gov.br/informacoes_sobre_posicionamento_geodesico/rbmc/dados/' + str(year) + '/' + str(doy).zfill(3) + '/' + filename\n",
        "\n",
        "      request = requests.get(url)\n",
        "      if request.status_code == 200:\n",
        "\n",
        "          fullname = os.path.join('/content/rinex/RBMC/' + str(year) + '/', filename)\n",
        "          urllib.request.urlretrieve(url, fullname)\n",
        "\n",
        "          with zipfile.ZipFile(fullname, 'r') as zip_ref:\n",
        "            zip_ref.extractall('/content/rinex/RBMC/' + str(year) + '/')\n",
        "\n",
        "          os.remove(fullname)\n",
        "\n",
        "          print('RBMC/' + str(year) + '/' + filename + ' unzipped successfully')\n",
        "\n",
        "      else:\n",
        "\n",
        "          print('RBMC/' + str(year) + '/' + filename + ' does not exist')\n",
        "\n",
        "  folder = '/content/rinex/RBMC/' + str(year)\n",
        "\n",
        "  for path in pathlib.Path(folder).glob(\"*.*\"):\n",
        "    path2 = path.parent.joinpath(str(path.name).upper())\n",
        "    shutil.move(path, path2)\n",
        "\n",
        "  for path in pathlib.Path(folder).glob(\"*.*\"):\n",
        "\n",
        "    if str(path)[-1:] == \"D\":\n",
        "      shutil.move(path, str(path)[:25] + str(path)[22:24] + 'D/' + str(path)[25:])\n",
        "    elif str(path)[-1:] == \"G\":\n",
        "      shutil.move(path, str(path)[:25] + str(path)[22:24] + 'G/' + str(path)[25:])\n",
        "    elif str(path)[-1:] == \"L\":\n",
        "      shutil.move(path, str(path)[:25] + str(path)[22:24] + 'L/' + str(path)[25:])\n",
        "    elif str(path)[-1:] == \"M\":\n",
        "      shutil.move(path, str(path)[:25] + str(path)[22:24] + 'M/' + str(path)[25:])\n",
        "    elif str(path)[-1:] == \"N\":\n",
        "      shutil.move(path, str(path)[:25] + str(path)[22:24] + 'N/' + str(path)[25:])\n",
        "\n",
        "print('>>>>>>>>>> PROCESS COMPLETED <<<<<<<<<<')"
      ],
      "metadata": {
        "id": "voXB9YzyTfCP",
        "collapsed": true
      },
      "execution_count": null,
      "outputs": []
    },
    {
      "cell_type": "markdown",
      "source": [
        "## B. Baixar arquivos de serviços"
      ],
      "metadata": {
        "id": "Vgbce8nq2FGm"
      }
    },
    {
      "cell_type": "markdown",
      "source": [
        "### B.1. Serviço IGS (SP3, CLK, ERP)"
      ],
      "metadata": {
        "id": "iS2h7Z5Olfu-"
      }
    },
    {
      "cell_type": "code",
      "source": [
        "def ftp_directory_exist(ftp, directory_path):\n",
        "  try:\n",
        "    ftp.cwd(directory_path)\n",
        "    return True\n",
        "  except error_perm as e:\n",
        "    if \"550\" in str(e):\n",
        "      return False\n",
        "    else:\n",
        "      raise\n",
        "\n",
        "if not os.path.exists('/content/products/IGS'):\n",
        "  os.makedirs('/content/products/IGS')\n",
        "\n",
        "for year in range(INI_YY, END_YY):\n",
        "\n",
        "  if not os.path.exists('/content/products/IGS/' + str(year)):\n",
        "    os.makedirs('/content/products/IGS/' + str(year))\n",
        "\n",
        "  for month in INT_MM:\n",
        "\n",
        "    # Day of year\n",
        "    doy = datetime(year, month, INI_DD).timetuple().tm_yday\n",
        "    # GPS Week\n",
        "    week = gnsscal.date2gpswd(date(year, month, INI_DD))[0]\n",
        "    # Day of GPS week\n",
        "    dowk = gnsscal.date2gpswd(date(year, month, INI_DD))[1]\n",
        "    # First day of week as date\n",
        "    dates = gnsscal.gpswd2date(week, 0)\n",
        "    # First day of week as DOY\n",
        "    idoy = dates.timetuple().tm_yday\n",
        "\n",
        "    directory = 'gps/products/' + str(week)\n",
        "\n",
        "    ftps = FTP_TLS(host = 'gdc.cddis.eosdis.nasa.gov')\n",
        "    ftps.login(user = n_user, passwd= n_email)\n",
        "    ftps.prot_p()\n",
        "\n",
        "    if week < 2238:\n",
        "      file_sp3 = 'igs' + str(week) + str(dowk) + '.sp3.Z'\n",
        "      file_clk = 'igs' + str(week) + str(dowk) + '.clk.Z'\n",
        "      file_erp = 'igs' + str(week) + '7.erp.Z'\n",
        "\n",
        "      if ftp_directory_exist(ftps, directory):\n",
        "        ftps.retrbinary(\"RETR \" + file_sp3, open('/content/products/IGS/' + str(year) + '/' + file_sp3, 'wb').write)\n",
        "\n",
        "        uncompressed_data = unlzw3.unlzw(Path('/content/products/IGS/' + str(year) + '/' + file_sp3).read_bytes())\n",
        "        data = uncompressed_data.decode('utf-8')\n",
        "\n",
        "        with open('/content/products/IGS/' + str(year) + '/igs' + str(week) + str(dowk) + '.PRE', 'w') as f:\n",
        "          f.writelines(data)\n",
        "\n",
        "        print(str(year) + '/' + file_sp3 + ' unzipped successfully')\n",
        "        os.remove('/content/products/IGS/' + str(year) + '/' + file_sp3)\n",
        "\n",
        "        ftps.retrbinary(\"RETR \" + file_clk, open('/content/products/IGS/' + str(year) + '/' + file_clk, 'wb').write)\n",
        "\n",
        "        uncompressed_data = unlzw3.unlzw(Path('/content/products/IGS/' + str(year) + '/' + file_clk).read_bytes())\n",
        "        data = uncompressed_data.decode('utf-8')\n",
        "\n",
        "        with open('/content/products/IGS/' + str(year) + '/igs' + str(week) + str(dowk) + '.CLK', 'w') as f:\n",
        "          f.writelines(data)\n",
        "\n",
        "        print(str(year) + '/' + file_clk + ' unzipped successfully')\n",
        "        os.remove('/content/products/IGS/' + str(year) + '/' + file_clk)\n",
        "\n",
        "        ftps.retrbinary(\"RETR \" + file_erp, open('/content/products/IGS/' + str(year) + '/' + file_erp, 'wb').write)\n",
        "\n",
        "        uncompressed_data = unlzw3.unlzw(Path('/content/products/IGS/' + str(year) + '/' + file_erp).read_bytes())\n",
        "        data = uncompressed_data.decode('utf-8')\n",
        "\n",
        "        with open('/content/products/IGS/' + str(year) + '/igs' + str(week) + '7.IEP', 'w') as f:\n",
        "          f.writelines(data)\n",
        "\n",
        "        print(str(year) + '/' + file_erp + ' unzipped successfully')\n",
        "        os.remove('/content/products/IGS/' + str(year) + '/' + file_erp)\n",
        "\n",
        "    elif week >= 2238:\n",
        "      file_nat = 'IGS0OPSFIN_'\n",
        "      file_ext_sp3 = '0000_01D_15M_ORB.SP3.gz'\n",
        "      file_ext_clk = '0000_01D_05M_CLK.CLK.gz'\n",
        "      file_ext_erp = '0000_07D_01D_ERP.ERP.gz'\n",
        "\n",
        "      file_sp3 = file_nat + str(year) + str(doy).zfill(3) + file_ext_sp3\n",
        "      file_clk = file_nat + str(year) + str(doy).zfill(3) + file_ext_clk\n",
        "      file_erp = file_nat + str(year) + str(idoy).zfill(3) + file_ext_erp\n",
        "\n",
        "      if ftp_directory_exist(ftps, directory):\n",
        "        ftps.retrbinary(\"RETR \" + file_sp3, open('/content/products/IGS/' + str(year) + '/' + file_sp3, 'wb').write)\n",
        "\n",
        "        with gzip.open('/content/products/IGS/' + str(year) + '/' + file_sp3, 'rb') as f_in:\n",
        "          with open('/content/products/IGS/' + str(year) + '/igs' + str(week) + str(dowk) + '.PRE', 'wb') as f_out:\n",
        "            shutil.copyfileobj(f_in, f_out)\n",
        "\n",
        "        print(str(year) + '/' + file_sp3 + ' unzipped successfully')\n",
        "        os.remove('/content/products/IGS/' + str(year) + '/' + file_sp3)\n",
        "\n",
        "        ftps.retrbinary(\"RETR \" + file_clk, open('/content/products/IGS/' + str(year) + '/' + file_clk, 'wb').write)\n",
        "\n",
        "        with gzip.open('/content/products/IGS/' + str(year) + '/' + file_clk, 'rb') as f_in:\n",
        "          with open('/content/products/IGS/' + str(year) + '/igs' + str(week) + str(dowk) + '.CLK', 'wb') as f_out:\n",
        "            shutil.copyfileobj(f_in, f_out)\n",
        "\n",
        "        print(str(year) + '/' + file_clk + ' unzipped successfully')\n",
        "        os.remove('/content/products/IGS/' + str(year) + '/' + file_clk)\n",
        "\n",
        "        ftps.retrbinary(\"RETR \" + file_erp, open('/content/products/IGS/' + str(year) + '/' + file_erp, 'wb').write)\n",
        "\n",
        "        with gzip.open('/content/products/IGS/' + str(year) + '/' + file_erp, 'rb') as f_in:\n",
        "          with open('/content/products/IGS/' + str(year) + '/igs' + str(week) + '7.IEP', 'wb') as f_out:\n",
        "            shutil.copyfileobj(f_in, f_out)\n",
        "\n",
        "        print(str(year) + '/' + file_erp + ' unzipped successfully')\n",
        "        os.remove('/content/products/IGS/' + str(year) + '/' + file_erp)\n",
        "\n",
        "      else:\n",
        "        print('Directory does not exist')\n",
        "\n",
        "  folder = '/content/products/IGS/' + str(year)\n",
        "\n",
        "  for path in pathlib.Path(folder).glob(\"*.*\"):\n",
        "      path2 = path.parent.joinpath(str(path.name).upper())\n",
        "      shutil.move(path, path2)\n",
        "\n",
        "print('>>>>>>>>>> PROCESS COMPLETED <<<<<<<<<<')"
      ],
      "metadata": {
        "collapsed": true,
        "id": "-oOD3BL42NFx"
      },
      "execution_count": null,
      "outputs": []
    },
    {
      "cell_type": "markdown",
      "source": [
        "### B.2. Serviço CODE (IONEX)"
      ],
      "metadata": {
        "id": "LoQn65rslnmp"
      }
    },
    {
      "cell_type": "code",
      "source": [
        "if not os.path.exists('/content/products/CODE'):\n",
        "  os.makedirs('/content/products/CODE')\n",
        "\n",
        "for year in range(INI_YY, END_YY):\n",
        "\n",
        "  if not os.path.exists('/content/products/CODE/' + str(year)):\n",
        "    os.makedirs('/content/products/CODE/' + str(year))\n",
        "\n",
        "  for month in INT_MM:\n",
        "\n",
        "    # Day of year\n",
        "    doy = datetime(year, month, INI_DD).timetuple().tm_yday\n",
        "    # GPS Week\n",
        "    week = gnsscal.date2gpswd(date(year, month, INI_DD))[0]\n",
        "    # Day of GPS week\n",
        "    dowk = gnsscal.date2gpswd(date(year, month, INI_DD))[1]\n",
        "\n",
        "    if week < 2238:\n",
        "      filename = 'COD' + str(week) + str(dowk) + '.ION.Z'\n",
        "\n",
        "      url = 'http://ftp.aiub.unibe.ch/CODE/' + str(year) + '/' + filename\n",
        "      request = requests.get(url)\n",
        "\n",
        "      if request.status_code == 200:\n",
        "\n",
        "        fullname = os.path.join('/content/products/CODE/' + str(year) + '/', filename)\n",
        "        urllib.request.urlretrieve(url, fullname)\n",
        "\n",
        "        uncompressed_data = unlzw3.unlzw(Path('/content/products/CODE/' + str(year) + '/' + filename).read_bytes())\n",
        "        data = uncompressed_data.decode('utf-8')\n",
        "\n",
        "        with open('/content/products/CODE/' + str(year) + '/COD' + str(week) + str(dowk) + '.ION', 'w') as f:\n",
        "          f.writelines(data)\n",
        "\n",
        "        print(str(year) + '/' + filename + ' unzipped successfully')\n",
        "        os.remove('/content/products/CODE/' + str(year) + '/' + filename)\n",
        "\n",
        "    elif week >= 2238:\n",
        "      file_nat = 'COD0OPSFIN_'\n",
        "      file_ext = '0000_01D_01H_GIM.ION.gz'\n",
        "\n",
        "      filename = file_nat + str(year) + str(doy).zfill(3) + file_ext\n",
        "\n",
        "      url = 'http://ftp.aiub.unibe.ch/CODE/' + str(year) + '/' + filename\n",
        "      request = requests.get(url)\n",
        "\n",
        "      if request.status_code == 200:\n",
        "\n",
        "        fullname = os.path.join('/content/products/CODE/' + str(year) + '/', filename)\n",
        "        urllib.request.urlretrieve(url, fullname)\n",
        "\n",
        "        with gzip.open('/content/products/CODE/' + str(year) + '/' + filename, 'rb') as f_in:\n",
        "          with open('/content/products/CODE/' + str(year) + '/COD' + str(week) + str(dowk) + '.ION', 'wb') as f_out:\n",
        "            shutil.copyfileobj(f_in, f_out)\n",
        "\n",
        "        print(str(year) + '/' + filename + ' unzipped successfully')\n",
        "        os.remove('/content/products/CODE/' + str(year) + '/' + filename)\n",
        "\n",
        "print('>>>>>>>>>> PROCESS COMPLETED <<<<<<<<<<')"
      ],
      "metadata": {
        "collapsed": true,
        "id": "MePxZiG2luWs"
      },
      "execution_count": null,
      "outputs": []
    },
    {
      "cell_type": "markdown",
      "source": [
        "### Serviço TU Wien (VMF1 Grids)"
      ],
      "metadata": {
        "id": "LcjZzo-2s8tf"
      }
    },
    {
      "cell_type": "code",
      "source": [
        "if not os.path.exists('/content/products/WIEN'):\n",
        "  os.makedirs('/content/products/WIEN')\n",
        "\n",
        "for year in range(INI_YY, END_YY):\n",
        "\n",
        "  if not os.path.exists('/content/products/WIEN/' + str(year)):\n",
        "    os.makedirs('/content/products/WIEN/' + str(year))\n",
        "\n",
        "  for month in INT_MM:\n",
        "\n",
        "    # Day of year\n",
        "    doy = datetime(year, month, INI_DD).timetuple().tm_yday\n",
        "    # GPS Week\n",
        "    week = gnsscal.date2gpswd(date(year, month, INI_DD))[0]\n",
        "    # Day of GPS week\n",
        "    dowk = gnsscal.date2gpswd(date(year, month, INI_DD))[1]\n",
        "\n",
        "    file_nat = 'VMFG_'\n",
        "\n",
        "    files_list = []\n",
        "\n",
        "    for hours in VMF_HH:\n",
        "\n",
        "      file_ext = '.H' + str(hours).zfill(2)\n",
        "      filename = 'VMFG_' + str(year) + str(month).zfill(2) + str(INI_DD).zfill(2) + file_ext\n",
        "\n",
        "      url = 'https://vmf.geo.tuwien.ac.at/trop_products/GRID/2.5x2/VMF1/VMF1_OP/' + str(year) + '/' + filename\n",
        "\n",
        "      request = requests.get(url)\n",
        "      if request.status_code == 200:\n",
        "\n",
        "        fullname = os.path.join('/content/products/WIEN/' + str(year) + '/', filename)\n",
        "        urllib.request.urlretrieve(url, fullname)\n",
        "\n",
        "        files_list.append(fullname)\n",
        "\n",
        "    # 00 HOURS OF NEXT DAY\n",
        "    filename = 'VMFG_' + str(year) + str(month).zfill(2) + str(INI_DD+1).zfill(2) + '.H00'\n",
        "\n",
        "    url = 'https://vmf.geo.tuwien.ac.at/trop_products/GRID/2.5x2/VMF1/VMF1_OP/' + str(year) + '/' + filename\n",
        "\n",
        "    request = requests.get(url)\n",
        "    if request.status_code == 200:\n",
        "\n",
        "      fullname = os.path.join('/content/products/WIEN/' + str(year) + '/', filename)\n",
        "      urllib.request.urlretrieve(url, fullname)\n",
        "\n",
        "      files_list.append(fullname)\n",
        "\n",
        "    with open('/content/products/WIEN/' + str(year) + '/VMF' + str(year)[2:] + str(doy) + '.GRD', 'w') as outfile:\n",
        "      for fname in files_list:\n",
        "        with open(fname) as infile:\n",
        "          for line in infile:\n",
        "            outfile.write(line)\n",
        "\n",
        "    print('/content/products/WIEN/' + str(year) + '/VMF' + str(year)[2:] + str(doy).zfill(3) + '.GRD' + ' was successfully created')\n",
        "\n",
        "    dir_VMF = os.listdir('/content/products/WIEN/' + str(year))\n",
        "\n",
        "    for item in files_list:\n",
        "      os.remove(item)"
      ],
      "metadata": {
        "id": "dDANUVDhtF4T"
      },
      "execution_count": null,
      "outputs": []
    },
    {
      "cell_type": "markdown",
      "source": [
        "## FIN. Zipar e baixar os dados"
      ],
      "metadata": {
        "id": "DCzH8RY21Iu2"
      }
    },
    {
      "cell_type": "code",
      "source": [
        "!zip -r rinex.zip \"rinex\"\n",
        "!zip -r products.zip \"products\"\n",
        "\n",
        "files.download('rinex.zip')\n",
        "files.download('products')\n",
        "\n",
        "#shutil.rmtree('/content/rinex', ignore_errors=True)\n",
        "#shutil.rmtree('/content/products', ignore_errors=True)"
      ],
      "metadata": {
        "collapsed": true,
        "id": "PzhmEg-qQk31"
      },
      "execution_count": null,
      "outputs": []
    }
  ]
}